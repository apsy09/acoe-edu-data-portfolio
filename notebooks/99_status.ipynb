{
 "cells": [
  {
   "cell_type": "code",
   "execution_count": 6,
   "id": "191c807c-87f3-40bf-9ee0-39063a5f4fe8",
   "metadata": {},
   "outputs": [
    {
     "name": "stdout",
     "output_type": "stream",
     "text": [
      "✅ Processed (wide) exists\n",
      "✅ Processed (long) exists\n",
      "✅ Figures exported to assets/\n",
      "✅ Wide has required columns\n",
      "✅ Rates look like fractions (<=1.05)\n",
      "✅ Small-N rows suppressed (no rate when cohort<10)\n",
      "✅ All Students present for district/year groups\n",
      "❌ gap_vs_all ≈ 0 for All Students\n",
      "\n",
      "🎯 Project 01 status: NEEDS FIXES ❗\n",
      "Open the ❌ items above and rerun 02/03 where relevant.\n"
     ]
    }
   ],
   "source": [
    "from pathlib import Path\n",
    "import pandas as pd\n",
    "\n",
    "ROOT = Path.cwd().resolve().parent  # notebook in /notebooks\n",
    "PROCESSED = ROOT / \"data\" / \"01_caldashboard\" / \"processed\"\n",
    "ASSETS = ROOT / \"projects\" / \"01_california-dashboard-replica\" / \"assets\"\n",
    "\n",
    "ok = True\n",
    "def status(msg, cond):\n",
    "    global ok\n",
    "    print((\"✅ \" if cond else \"❌ \") + msg)\n",
    "    ok &= bool(cond)\n",
    "\n",
    "# --- files exist ---\n",
    "wide_fp = PROCESSED / \"kpi_chronic_wide_all_levels.csv\"\n",
    "long_fp = PROCESSED / \"kpi_chronic_long_all_levels.csv\"\n",
    "status(\"Processed (wide) exists\", wide_fp.exists())\n",
    "status(\"Processed (long) exists\", long_fp.exists())\n",
    "\n",
    "# at least some figures in assets\n",
    "pngs = sorted(ASSETS.glob(\"*.png\"))\n",
    "status(\"Figures exported to assets/\", len(pngs) >= 3)  # expect 3+ PNGs\n",
    "\n",
    "# --- load & schema checks ---\n",
    "if wide_fp.exists():\n",
    "    wide = pd.read_csv(wide_fp)\n",
    "    need_cols = {\"geo_level\",\"year\",\"subgroup\",\"cohort\",\"chronic_absent_count\",\"chronic_absent_rate\"}\n",
    "    status(\"Wide has required columns\", need_cols.issubset(wide.columns))\n",
    "\n",
    "    # rates are fractions, not percent points\n",
    "    if \"chronic_absent_rate\" in wide:\n",
    "        mx = pd.to_numeric(wide[\"chronic_absent_rate\"], errors=\"coerce\").dropna().max()\n",
    "        status(\"Rates look like fractions (<=1.05)\", (mx is not None) and (mx <= 1.05))\n",
    "\n",
    "    # small-N suppression respected\n",
    "    if {\"cohort\",\"chronic_absent_rate\"} <= set(wide.columns):\n",
    "        bad = wide[(wide[\"cohort\"] < 10) & wide[\"cohort\"].notna() & wide[\"chronic_absent_rate\"].notna()]\n",
    "        status(\"Small-N rows suppressed (no rate when cohort<10)\", bad.empty)\n",
    "\n",
    "    # “All Students” coverage (district level)\n",
    "    if {\"geo_level\",\"year\",\"subgroup\"} <= set(wide.columns):\n",
    "        dist = wide[wide[\"geo_level\"].astype(str).str.lower().eq(\"district\")]\n",
    "        by = dist.groupby([\"year\"]).apply(\n",
    "            lambda g: g[\"subgroup\"].astype(str).str.lower().isin([\"all\",\"all students\"]).any()\n",
    "        )\n",
    "        status(\"All Students present for district/year groups\", by.all())\n",
    "\n",
    "    # equity gap plausibility (gap ~ 0 for All Students if column exists)\n",
    "    if \"gap_vs_all\" in wide.columns:\n",
    "        all_rows = wide[wide[\"subgroup\"].astype(str).str.lower().isin([\"all\",\"all students\"])]\n",
    "        if not all_rows.empty:\n",
    "            near_zero = (all_rows[\"gap_vs_all\"].fillna(0).abs() <= 0.001).all()\n",
    "            status(\"gap_vs_all ≈ 0 for All Students\", near_zero)\n",
    "\n",
    "# --- final verdict ---\n",
    "print(\"\\n🎯 Project 01 status:\", \"READY ✅\" if ok else \"NEEDS FIXES ❗\")\n",
    "if not ok:\n",
    "    print(\"Open the ❌ items above and rerun 02/03 where relevant.\")\n"
   ]
  },
  {
   "cell_type": "code",
   "execution_count": null,
   "id": "a09092ec-4290-4080-9449-cf2df05489b3",
   "metadata": {},
   "outputs": [],
   "source": []
  }
 ],
 "metadata": {
  "kernelspec": {
   "display_name": "Python 3 (ipykernel)",
   "language": "python",
   "name": "python3"
  },
  "language_info": {
   "codemirror_mode": {
    "name": "ipython",
    "version": 3
   },
   "file_extension": ".py",
   "mimetype": "text/x-python",
   "name": "python",
   "nbconvert_exporter": "python",
   "pygments_lexer": "ipython3",
   "version": "3.11.5"
  }
 },
 "nbformat": 4,
 "nbformat_minor": 5
}
